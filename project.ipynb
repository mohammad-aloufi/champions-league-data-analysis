{
 "cells": [
  {
   "cell_type": "markdown",
   "metadata": {},
   "source": [
    "# Getting started"
   ]
  },
  {
   "cell_type": "markdown",
   "metadata": {},
   "source": [
    "Lets import the libraries first"
   ]
  },
  {
   "cell_type": "code",
   "execution_count": null,
   "metadata": {},
   "outputs": [],
   "source": [
    "import pandas as pd\n",
    "import matplotlib.pyplot as plt\n",
    "import seaborn as sns\n",
    "%matplotlib inline"
   ]
  },
  {
   "cell_type": "markdown",
   "metadata": {},
   "source": [
    "Load the dataset"
   ]
  },
  {
   "cell_type": "code",
   "execution_count": null,
   "metadata": {},
   "outputs": [],
   "source": [
    "df = pd.read_csv('champions_league_2020-2021_results.csv')"
   ]
  },
  {
   "cell_type": "markdown",
   "metadata": {},
   "source": [
    "lets take a look at the data"
   ]
  },
  {
   "cell_type": "code",
   "execution_count": null,
   "metadata": {},
   "outputs": [],
   "source": [
    "df"
   ]
  },
  {
   "cell_type": "markdown",
   "metadata": {},
   "source": [
    "# Data cleaning"
   ]
  },
  {
   "cell_type": "markdown",
   "metadata": {},
   "source": [
    "Lets look at the data shape"
   ]
  },
  {
   "cell_type": "code",
   "execution_count": null,
   "metadata": {},
   "outputs": [],
   "source": [
    "print(df.shape)"
   ]
  },
  {
   "cell_type": "markdown",
   "metadata": {},
   "source": [
    "We don't need every column here for our project, so we will remove the columns we don't need."
   ]
  },
  {
   "cell_type": "code",
   "execution_count": null,
   "metadata": {},
   "outputs": [],
   "source": [
    "df = df.drop(['pens', 'pens_home_score', 'pens_away_score', 'duels_won_home', 'duels_won_away', 'prediction_team_home_win',\n",
    "              'prediction_draw', 'prediction_team_away_win', 'events_list', 'lineup_home', 'lineup_away'], axis=1)"
   ]
  },
  {
   "cell_type": "markdown",
   "metadata": {},
   "source": [
    "Lets take a look at the data frame after we removed the unwanted columns"
   ]
  },
  {
   "cell_type": "code",
   "execution_count": null,
   "metadata": {},
   "outputs": [],
   "source": [
    "df"
   ]
  },
  {
   "cell_type": "markdown",
   "metadata": {},
   "source": [
    "# Data Wrangling"
   ]
  },
  {
   "cell_type": "markdown",
   "metadata": {},
   "source": [
    "We'll drop any row with a missing value if any"
   ]
  },
  {
   "cell_type": "code",
   "execution_count": null,
   "metadata": {},
   "outputs": [],
   "source": [
    "df = df.dropna()"
   ]
  },
  {
   "cell_type": "markdown",
   "metadata": {},
   "source": [
    "Lets check if any rows were actually dropped"
   ]
  },
  {
   "cell_type": "code",
   "execution_count": null,
   "metadata": {},
   "outputs": [],
   "source": [
    "df"
   ]
  },
  {
   "cell_type": "markdown",
   "metadata": {},
   "source": [
    "Good, so our data frame doesn't have any missing values."
   ]
  },
  {
   "cell_type": "markdown",
   "metadata": {},
   "source": [
    "Lets create a new column for us to easily identify the winner in a matche.\n",
    "This one is a bit more complecated. The way I'm going to do this is to first make a new column naming it match_win_status, and I'll fill each column with 1 of 3 categorical values:"
   ]
  },
  {
   "cell_type": "markdown",
   "metadata": {},
   "source": [
    "1. Home: if the home team was the winner in that match.\n",
    "2. Tide: If that match was tied.\n",
    "3. Away: if the away team was the winner in that match."
   ]
  },
  {
   "cell_type": "markdown",
   "metadata": {},
   "source": [
    "I'll be going through every row to fill that column. The columns \"team_home_score\" and \"team_away_score\" are enough to tell me the info I want to know, and the logic is this:"
   ]
  },
  {
   "cell_type": "markdown",
   "metadata": {},
   "source": [
    "1. if team_home_score > team_away_score then home team won.\n",
    "2. if team_home_score < team_away_score then away team won.\n",
    "3. if team_home_score == team_away_score then match ended on a draw."
   ]
  },
  {
   "cell_type": "code",
   "execution_count": null,
   "metadata": {},
   "outputs": [],
   "source": [
    "match_win_status = []\n",
    "for index, row in df.iterrows():\n",
    "    if row['team_home_score'] > row['team_away_score']:\n",
    "        match_win_status.append('home')\n",
    "    if row['team_home_score'] == row['team_away_score']:\n",
    "        match_win_status.append('draw')\n",
    "    if row['team_home_score'] < row['team_away_score']:\n",
    "        match_win_status.append('away')\n",
    "df['match_win_status'] = match_win_status"
   ]
  },
  {
   "cell_type": "markdown",
   "metadata": {},
   "source": [
    "We won't be checking for double entries because in our case it's okay to have them actually.\n",
    "I also know some of the columns hold categorical values and should be probably converted to numbers for applying machine learning models but I won't be converting them because we wouldn't be doing any machine learning for this project, plus, it's easier for non-technical people to read the table in the blog post."
   ]
  },
  {
   "cell_type": "markdown",
   "metadata": {},
   "source": [
    "# Features list"
   ]
  },
  {
   "cell_type": "markdown",
   "metadata": {},
   "source": [
    "Now our dataset contains the following features:"
   ]
  },
  {
   "cell_type": "markdown",
   "metadata": {},
   "source": [
    "1. Stage: The stage of the match in that season.\n",
    "2. date: Match date.\n",
    "3. team_name_home: The home team for the match.\n",
    "4. team_name_away: The away team for the match.\n",
    "5. team_home_score: Final score for the home team.\n",
    "6. team_away_score: Final score for the away team.\n",
    "7. possession_home: The possession rate for the home team in the match.\n",
    "8. possession_away: The possession rate for the away team in the match.\n",
    "9. total_shots_home: The total shots for the home team.\n",
    "10. total_shots_away: The total shots for away team.\n",
    "11. shots_on_target_home: Shots on target for home team.\n",
    "12. shots_on_target_away: Total shots on target for away team.\n",
    "13. location: The stadium of the match.\n",
    "14. match_win_status: Status of winning in that match: (home, away, or draw)."
   ]
  },
  {
   "cell_type": "markdown",
   "metadata": {},
   "source": [
    "# Data exploration"
   ]
  },
  {
   "cell_type": "markdown",
   "metadata": {},
   "source": [
    "## Question 1: What was the largest score for home and away teams?"
   ]
  },
  {
   "cell_type": "markdown",
   "metadata": {},
   "source": [
    "For home teams"
   ]
  },
  {
   "cell_type": "code",
   "execution_count": null,
   "metadata": {},
   "outputs": [],
   "source": [
    "#Sort values by home_team_score\n",
    "df.sort_values(by=['team_home_score'], inplace=False, ascending=False)"
   ]
  },
  {
   "cell_type": "markdown",
   "metadata": {},
   "source": [
    "For away teams"
   ]
  },
  {
   "cell_type": "code",
   "execution_count": null,
   "metadata": {},
   "outputs": [],
   "source": [
    "#Sort values by away_team_score\n",
    "df.sort_values(by=['team_away_score'], inplace=False, ascending=False)"
   ]
  },
  {
   "cell_type": "markdown",
   "metadata": {},
   "source": [
    "## Question 2: What was the highest possession rate for a home and away team?"
   ]
  },
  {
   "cell_type": "markdown",
   "metadata": {},
   "source": [
    "For a home team"
   ]
  },
  {
   "cell_type": "code",
   "execution_count": null,
   "metadata": {},
   "outputs": [],
   "source": [
    "#Sort values by possession_home, the possession rate for home teams\n",
    "df.sort_values(by=['possession_home'], inplace=False, ascending=False)"
   ]
  },
  {
   "cell_type": "markdown",
   "metadata": {},
   "source": [
    "For an away team"
   ]
  },
  {
   "cell_type": "code",
   "execution_count": null,
   "metadata": {},
   "outputs": [],
   "source": [
    "#Sort values by possession_away, the possession rate for away teams\n",
    "df.sort_values(by=['possession_away'], inplace=False, ascending=False)"
   ]
  },
  {
   "cell_type": "markdown",
   "metadata": {},
   "source": [
    "## Question 3: How many times did home and away teams actually win their matches?"
   ]
  },
  {
   "cell_type": "code",
   "execution_count": null,
   "metadata": {},
   "outputs": [],
   "source": [
    "#Showing a graph of match winning status for home and away teams\n",
    "sns.countplot(data=df, x ='match_win_status', color ='black');\n",
    "plt.xlabel('Age');\n",
    "plt.ylabel('Count');"
   ]
  }
 ],
 "metadata": {
  "kernelspec": {
   "display_name": "Python 3",
   "language": "python",
   "name": "python3"
  }
 },
 "nbformat": 4,
 "nbformat_minor": 4
}
